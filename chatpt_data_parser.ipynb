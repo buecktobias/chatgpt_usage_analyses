{
 "cells": [
  {
   "cell_type": "markdown",
   "metadata": {},
   "source": [
    "# ChatGPT History Export Parser"
   ]
  },
  {
   "cell_type": "markdown",
   "metadata": {},
   "source": [
    "Simple parser code to convert your ChatGPT Conversation History into a CSV for personal analysis.\n",
    "\n",
    "✔ Export your ChatGPT history and data following OpenAI's documentation [here](https://help.openai.com/en/articles/7260999-how-do-i-export-my-chatgpt-history-and-data)."
   ]
  },
  {
   "cell_type": "markdown",
   "metadata": {},
   "source": [
    "-----"
   ]
  },
  {
   "cell_type": "markdown",
   "metadata": {},
   "source": [
    "## Dependencies"
   ]
  },
  {
   "cell_type": "code",
   "execution_count": 19,
   "metadata": {},
   "outputs": [],
   "source": [
    "# import argparse\n",
    "import json\n",
    "import os\n",
    "import re\n",
    "from collections import defaultdict\n",
    "from typing import Any\n",
    "\n",
    "from tqdm import tqdm\n",
    "\n",
    "from datetime import datetime\n",
    "# from datetime import date, datetime as dt, timedelta as td\n",
    "import numpy as np\n",
    "import pandas as pd\n",
    "\n",
    "import matplotlib.pyplot as plt\n",
    "%matplotlib inline"
   ]
  },
  {
   "cell_type": "code",
   "execution_count": 20,
   "metadata": {},
   "outputs": [],
   "source": [
    "# check python version\n",
    "# import sys\n",
    "# sys.version_info"
   ]
  },
  {
   "cell_type": "markdown",
   "metadata": {},
   "source": [
    "-----"
   ]
  },
  {
   "cell_type": "markdown",
   "metadata": {},
   "source": [
    "## Basic Configurations inc File Paths for Conversations and Output"
   ]
  },
  {
   "cell_type": "code",
   "execution_count": 21,
   "metadata": {},
   "outputs": [],
   "source": [
    "json_filepath = 'data/conversations.json'"
   ]
  },
  {
   "cell_type": "code",
   "execution_count": 22,
   "metadata": {},
   "outputs": [],
   "source": [
    "out_folder = 'output'"
   ]
  },
  {
   "cell_type": "markdown",
   "metadata": {},
   "source": [
    "-----"
   ]
  },
  {
   "cell_type": "markdown",
   "metadata": {},
   "source": [
    "## Simple Data Check and Data Analysis"
   ]
  },
  {
   "cell_type": "code",
   "execution_count": 23,
   "metadata": {},
   "outputs": [],
   "source": [
    "with open(json_filepath, \"r\") as file:\n",
    "    conversations = json.load(file)"
   ]
  },
  {
   "cell_type": "code",
   "execution_count": 24,
   "metadata": {},
   "outputs": [],
   "source": [
    "# Uncomment to view single raw convo example\n",
    "# conversations[14]"
   ]
  },
  {
   "cell_type": "code",
   "execution_count": 25,
   "metadata": {},
   "outputs": [],
   "source": [
    "title_occurrences: defaultdict[str, int] = defaultdict(int)\n",
    "total_conversations: int = len(conversations)"
   ]
  },
  {
   "cell_type": "code",
   "execution_count": 26,
   "metadata": {},
   "outputs": [
    {
     "name": "stdout",
     "output_type": "stream",
     "text": [
      "Total Conversations = 213\n"
     ]
    }
   ],
   "source": [
    "print(\"Total Conversations =\", total_conversations)"
   ]
  },
  {
   "cell_type": "markdown",
   "metadata": {},
   "source": [
    "----"
   ]
  },
  {
   "cell_type": "markdown",
   "metadata": {},
   "source": [
    "## Parser and Export to CSV"
   ]
  },
  {
   "cell_type": "code",
   "execution_count": 27,
   "metadata": {},
   "outputs": [],
   "source": [
    "# Config\n",
    "user_name = \"Me\" # user_name = \"Mark Koester\"\n",
    "assistant_name = \"ChatGPT\"\n",
    "date_format = \"%m-%d-%Y\"\n",
    "file_name_format = \"_{title}\"\n",
    "include_date = True\n",
    "message_separator = \"\\n\\n\"\n",
    "skip_empty_messages = True"
   ]
  },
  {
   "cell_type": "code",
   "execution_count": 28,
   "metadata": {},
   "outputs": [
    {
     "data": {
      "text/plain": [
       "213"
      ]
     },
     "execution_count": 28,
     "metadata": {},
     "output_type": "execute_result"
    }
   ],
   "source": [
    "# type(conversations)\n",
    "# conversations = conversations[5:6]\n",
    "len(conversations)"
   ]
  },
  {
   "cell_type": "code",
   "execution_count": 29,
   "metadata": {},
   "outputs": [],
   "source": [
    "def process_conversations_to_df(data):\n",
    "    convo_msgs = []\n",
    "    for conversation in tqdm(data, desc=\"Processing conversations\"):\n",
    "        title = conversation[\"title\"]\n",
    "        mapping = conversation[\"mapping\"]\n",
    "\n",
    "        # Extract messages from the \"mapping\" key\n",
    "        messages = [mapping[key][\"message\"] for key in mapping if mapping[key][\"message\"] is not None]\n",
    "\n",
    "        # Sort messages by their create_time\n",
    "        messages.sort(key=lambda x: x[\"create_time\"] if x[\"create_time\"] is not None else float('-inf'))\n",
    "\n",
    "        if messages and messages[0][\"create_time\"] is not None:\n",
    "            conversation_start = datetime.fromtimestamp(messages[0][\"create_time\"]).strftime(date_format)\n",
    "        # conversation_start = datetime.fromtimestamp(messages[0][\"create_time\"]).strftime(date_format)\n",
    "\n",
    "        msg_list = []\n",
    "        for message in messages:\n",
    "            author_role = message[\"author\"][\"role\"]\n",
    "            msg_content = message[\"content\"][\"parts\"][0]\n",
    "            msg_date = ''\n",
    "            if message[\"create_time\"] is not None:\n",
    "                msg_date = datetime.fromtimestamp(message[\"create_time\"]).strftime('%Y-%m-%d %H:%M:%S')\n",
    "                # msg_date = datetime.fromtimestamp(message[\"create_time\"])\n",
    "            author_name = user_name if author_role == \"user\" else assistant_name\n",
    "\n",
    "            # print(title + \" on \" + msg_date + \" - \" +author_name + \" \" +  msg_content)\n",
    "            \n",
    "            msg = {\n",
    "                'conversation_title': title,\n",
    "                'author': author_name,\n",
    "                # 'conversation_date': conversation_start,\n",
    "                'message': msg_content,\n",
    "                'msg_date': msg_date\n",
    "            }\n",
    "            msg_list.append(msg)\n",
    "        convo_msgs.extend(msg_list)\n",
    "        \n",
    "    #convo_msgs.append(msg_list)\n",
    "    convo_msgs_df = pd.DataFrame(convo_msgs)\n",
    "    return convo_msgs_df"
   ]
  },
  {
   "cell_type": "code",
   "execution_count": 30,
   "metadata": {},
   "outputs": [],
   "source": [
    "# process_conversations_to_df(conversations)"
   ]
  },
  {
   "cell_type": "code",
   "execution_count": 31,
   "metadata": {},
   "outputs": [
    {
     "name": "stderr",
     "output_type": "stream",
     "text": [
      "Processing conversations: 100%|████████████| 213/213 [00:00<00:00, 23102.24it/s]\n"
     ]
    }
   ],
   "source": [
    "convo_msgs = process_conversations_to_df(conversations)"
   ]
  },
  {
   "cell_type": "code",
   "execution_count": 32,
   "metadata": {},
   "outputs": [],
   "source": [
    "# convo_msgs.head()"
   ]
  },
  {
   "cell_type": "code",
   "execution_count": 33,
   "metadata": {},
   "outputs": [
    {
     "data": {
      "text/plain": [
       "2834"
      ]
     },
     "execution_count": 33,
     "metadata": {},
     "output_type": "execute_result"
    }
   ],
   "source": [
    "len(convo_msgs)"
   ]
  },
  {
   "cell_type": "code",
   "execution_count": 34,
   "metadata": {},
   "outputs": [],
   "source": [
    "convo_msgs.to_csv(\"data/chatgpt_messages.csv\", index=None, encoding='utf-8')"
   ]
  },
  {
   "cell_type": "code",
   "execution_count": null,
   "metadata": {},
   "outputs": [],
   "source": []
  },
  {
   "cell_type": "markdown",
   "metadata": {},
   "source": [
    "----"
   ]
  },
  {
   "cell_type": "markdown",
   "metadata": {},
   "source": [
    "## TODO: Exporter to Markdown Files per Conversation"
   ]
  },
  {
   "cell_type": "code",
   "execution_count": 35,
   "metadata": {},
   "outputs": [],
   "source": [
    "# Pre-compiled pattern for disallowed characters in file names\n",
    "DISALLOWED_CHARS_PATTERN = re.compile(r'[<>:\"/\\\\|?*\\n\\r\\t\\f\\v]')"
   ]
  },
  {
   "cell_type": "code",
   "execution_count": 36,
   "metadata": {},
   "outputs": [],
   "source": [
    "def process_conversations_to_markdown(data, output_dir):\n",
    "    for conversation in tqdm(data, desc=\"Processing conversations\"):\n",
    "        title = conversation[\"title\"]\n",
    "        mapping = conversation[\"mapping\"]\n",
    "\n",
    "        # Extract messages from the \"mapping\" key\n",
    "        messages = [mapping[key][\"message\"] for key in mapping if mapping[key][\"message\"] is not None]\n",
    "\n",
    "        # Sort messages by their create_time\n",
    "        messages.sort(key=lambda x: x[\"create_time\"] if x[\"create_time\"] is not None else float('-inf'))\n",
    "\n",
    "        # sanitize title to ensure it's a valid filename\n",
    "        title = ''.join(c for c in title if c.isalnum() or c in [' ', '_']).rstrip()\n",
    "        file_name = f\"{file_name_format.format(title=title.replace(' ', '_').replace('/', '_'))}.md\"\n",
    "        file_path = os.path.join(output_dir, file_name)\n",
    "\n",
    "        with open(file_path, \"w\", encoding=\"utf-8\") as f:\n",
    "            if messages and messages[0][\"create_time\"] is not None and include_date:\n",
    "                date = datetime.fromtimestamp(messages[0][\"create_time\"]).strftime(date_format)\n",
    "                f.write(f\"<sub>{date}</sub>{message_separator}\")\n",
    "\n",
    "            for message in messages:\n",
    "                author_role = message[\"author\"][\"role\"]\n",
    "                content = message[\"content\"][\"parts\"][0]\n",
    "                # msg_date = datetime.fromtimestamp(message[\"create_time\"]).strftime(date_format)\n",
    "                msg_date = message[\"create_time\"]\n",
    "                author_name = user_name if author_role == \"user\" else assistant_name\n",
    "                if not skip_empty_messages or content.strip():\n",
    "                    f.write(f\"**{author_name}** on msg_date: {content}{message_separator}\")"
   ]
  },
  {
   "cell_type": "code",
   "execution_count": null,
   "metadata": {},
   "outputs": [],
   "source": []
  },
  {
   "cell_type": "code",
   "execution_count": null,
   "metadata": {},
   "outputs": [],
   "source": []
  },
  {
   "cell_type": "code",
   "execution_count": null,
   "metadata": {},
   "outputs": [],
   "source": []
  }
 ],
 "metadata": {
  "kernelspec": {
   "display_name": "Python 3 (ipykernel)",
   "language": "python",
   "name": "python3"
  },
  "language_info": {
   "codemirror_mode": {
    "name": "ipython",
    "version": 3
   },
   "file_extension": ".py",
   "mimetype": "text/x-python",
   "name": "python",
   "nbconvert_exporter": "python",
   "pygments_lexer": "ipython3",
   "version": "3.9.6"
  }
 },
 "nbformat": 4,
 "nbformat_minor": 4
}
